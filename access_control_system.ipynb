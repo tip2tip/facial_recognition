{
 "cells": [
  {
   "cell_type": "code",
   "execution_count": 2,
   "metadata": {},
   "outputs": [],
   "source": [
    "import os\n",
    "import numpy as np\n",
    "import face_recognition\n",
    "\n",
    "folder_path = 'dataset'\n",
    "extension = '.npy'\n",
    "files = os.listdir(folder_path)\n",
    "files_path = [os.path.join(folder_path, file) for file in files]\n",
    "dataset = [file for file in files_path if os.path.splitext(file)[1] == extension]"
   ]
  },
  {
   "cell_type": "code",
   "execution_count": 29,
   "metadata": {},
   "outputs": [],
   "source": [
    "def face_comparsion(img, dataset):\n",
    "    img = face_recognition.load_image_file(img)\n",
    "    face = face_recognition.face_locations(img)\n",
    "    encoding = face_recognition.face_encodings(img, face)[0]\n",
    "\n",
    "    for user in dataset:\n",
    "        user_name = os.path.splitext(os.path.basename(user))[0]\n",
    "        user_encoding = np.load(user)\n",
    "        results = face_recognition.compare_faces([encoding], user_encoding, tolerance=0.35)\n",
    "        if (results == [True]):\n",
    "            return user_name\n",
    "    return \"no access!\"\n"
   ]
  },
  {
   "cell_type": "code",
   "execution_count": 41,
   "metadata": {},
   "outputs": [
    {
     "data": {
      "text/plain": [
       "'pony'"
      ]
     },
     "execution_count": 41,
     "metadata": {},
     "output_type": "execute_result"
    }
   ],
   "source": [
    "img = 'test/pony1.jpeg'\n",
    "face_comparsion(img, dataset)"
   ]
  },
  {
   "cell_type": "code",
   "execution_count": null,
   "metadata": {},
   "outputs": [],
   "source": []
  },
  {
   "cell_type": "code",
   "execution_count": null,
   "metadata": {},
   "outputs": [],
   "source": []
  }
 ],
 "metadata": {
  "kernelspec": {
   "display_name": "test",
   "language": "python",
   "name": "python3"
  },
  "language_info": {
   "codemirror_mode": {
    "name": "ipython",
    "version": 3
   },
   "file_extension": ".py",
   "mimetype": "text/x-python",
   "name": "python",
   "nbconvert_exporter": "python",
   "pygments_lexer": "ipython3",
   "version": "3.8.8"
  },
  "orig_nbformat": 4
 },
 "nbformat": 4,
 "nbformat_minor": 2
}
