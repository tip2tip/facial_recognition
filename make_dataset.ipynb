{
 "cells": [
  {
   "attachments": {},
   "cell_type": "markdown",
   "metadata": {},
   "source": [
    "# 对话框交互选择文件"
   ]
  },
  {
   "cell_type": "code",
   "execution_count": null,
   "metadata": {},
   "outputs": [],
   "source": [
    "# 导入包\n",
    "import tkinter as tk\n",
    "from tkinter import filedialog\n",
    "\n",
    "\n",
    "# 实例化\n",
    "root = tk.Tk()\n",
    "root.withdraw()\n",
    "\n",
    "# 获取文件夹路径\n",
    "# folder_path = filedialog.askdirectory()\n",
    "file_path = filedialog.askopenfilename()\n",
    "print('\\n获取的文件地址：', file_path)"
   ]
  },
  {
   "attachments": {},
   "cell_type": "markdown",
   "metadata": {},
   "source": [
    "# 读取文件夹下所有文件"
   ]
  },
  {
   "cell_type": "code",
   "execution_count": 9,
   "metadata": {},
   "outputs": [
    {
     "data": {
      "text/plain": [
       "['dataset\\\\cook.jpeg',\n",
       " 'dataset\\\\jack.jpeg',\n",
       " 'dataset\\\\jobs.jpeg',\n",
       " 'dataset\\\\jun.jpeg',\n",
       " 'dataset\\\\musk.jpeg',\n",
       " 'dataset\\\\pony.jpeg',\n",
       " 'dataset\\\\richard.jpeg',\n",
       " 'dataset\\\\robin.jpeg']"
      ]
     },
     "execution_count": 9,
     "metadata": {},
     "output_type": "execute_result"
    }
   ],
   "source": [
    "import os\n",
    "import numpy as np\n",
    "import face_recognition\n",
    "\n",
    "# 获取文件夹下所有文件名\n",
    "folder_path = 'dataset'\n",
    "files = os.listdir(folder_path)\n",
    "files_path = [os.path.join(folder_path, file) for file in files]\n",
    "files_path"
   ]
  },
  {
   "cell_type": "code",
   "execution_count": 10,
   "metadata": {},
   "outputs": [
    {
     "data": {
      "text/plain": [
       "'dataset\\\\cook'"
      ]
     },
     "execution_count": 10,
     "metadata": {},
     "output_type": "execute_result"
    }
   ],
   "source": [
    "name = os.path.splitext(files_path[0])[0]\n",
    "name"
   ]
  },
  {
   "cell_type": "code",
   "execution_count": 11,
   "metadata": {},
   "outputs": [],
   "source": [
    "for file_path in files_path:\n",
    "    name = os.path.splitext(file_path)[0]\n",
    "    img = face_recognition.load_image_file(file_path)\n",
    "    face = face_recognition.face_locations(img)\n",
    "    encoding = face_recognition.face_encodings(img, face)[0]\n",
    "    np.save(name, encoding)\n"
   ]
  },
  {
   "attachments": {},
   "cell_type": "markdown",
   "metadata": {},
   "source": [
    "# 读取文件夹下指定类型文件"
   ]
  },
  {
   "cell_type": "code",
   "execution_count": 12,
   "metadata": {},
   "outputs": [
    {
     "data": {
      "text/plain": [
       "['dataset\\\\cook.npy',\n",
       " 'dataset\\\\jack.npy',\n",
       " 'dataset\\\\jobs.npy',\n",
       " 'dataset\\\\jun.npy',\n",
       " 'dataset\\\\musk.npy',\n",
       " 'dataset\\\\pony.npy',\n",
       " 'dataset\\\\richard.npy',\n",
       " 'dataset\\\\robin.npy']"
      ]
     },
     "execution_count": 12,
     "metadata": {},
     "output_type": "execute_result"
    }
   ],
   "source": [
    "def getfiles(folder_path, extension='.npy'):\n",
    "    files = os.listdir(folder_path)\n",
    "    files_path = [os.path.join(folder_path, file) for file in files]\n",
    "    files_path = [file for file in files_path if os.path.splitext(file)[1] == extension]\n",
    "    return files_path\n",
    "\n",
    "getfiles('dataset')"
   ]
  }
 ],
 "metadata": {
  "kernelspec": {
   "display_name": "test",
   "language": "python",
   "name": "python3"
  },
  "language_info": {
   "codemirror_mode": {
    "name": "ipython",
    "version": 3
   },
   "file_extension": ".py",
   "mimetype": "text/x-python",
   "name": "python",
   "nbconvert_exporter": "python",
   "pygments_lexer": "ipython3",
   "version": "3.8.8"
  },
  "orig_nbformat": 4
 },
 "nbformat": 4,
 "nbformat_minor": 2
}
